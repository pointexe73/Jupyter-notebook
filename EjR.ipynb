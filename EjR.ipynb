{
 "cells": [
  {
   "cell_type": "markdown",
   "metadata": {},
   "source": [
    "# Curso Python basico a avanzado"
   ]
  },
  {
   "cell_type": "markdown",
   "metadata": {},
   "source": [
    "## Variables"
   ]
  },
  {
   "cell_type": "markdown",
   "metadata": {},
   "source": [
    "## Strings I"
   ]
  },
  {
   "cell_type": "code",
   "execution_count": 8,
   "metadata": {},
   "outputs": [
    {
     "name": "stdout",
     "output_type": "stream",
     "text": [
      "Esto es un 'string\n"
     ]
    }
   ],
   "source": [
    "\"esto es un string\"\n",
    "'esto es un string'\n",
    "\n",
    "texto = \"Esto es un 'string\"\n",
    "\n",
    "print(texto)"
   ]
  },
  {
   "cell_type": "markdown",
   "metadata": {},
   "source": [
    "## Strings II"
   ]
  },
  {
   "cell_type": "code",
   "execution_count": 9,
   "metadata": {},
   "outputs": [
    {
     "name": "stdout",
     "output_type": "stream",
     "text": [
      "Este es el canal de Programacion Facil\n"
     ]
    }
   ],
   "source": [
    "primeraPalabra = \"Programacion\"\n",
    "segundoPalabra = \"Facil\"\n",
    "\n",
    "nombreCanal = primeraPalabra + \" \" + segundoPalabra\n",
    "\n",
    "print(\"Este es el canal de \" + nombreCanal)"
   ]
  },
  {
   "cell_type": "markdown",
   "metadata": {},
   "source": [
    "## Strings III\n",
    "### Los metodos upper() - lower() - title()"
   ]
  },
  {
   "cell_type": "code",
   "execution_count": 10,
   "metadata": {},
   "outputs": [
    {
     "name": "stdout",
     "output_type": "stream",
     "text": [
      "Programacion Facil\n"
     ]
    }
   ],
   "source": [
    "# title() Coloca las primeras letra de cada palabra en Mayusculas\n",
    "\n",
    "nombre = \"programacion facil\"\n",
    "\n",
    "print(nombre.title())"
   ]
  },
  {
   "cell_type": "code",
   "execution_count": 11,
   "metadata": {},
   "outputs": [
    {
     "name": "stdout",
     "output_type": "stream",
     "text": [
      "PROGRAMACION FACIL\n"
     ]
    }
   ],
   "source": [
    "# upper() Coloca todas las letras en Mayusculas\n",
    "\n",
    "nombreUpper = \"programacion facil\" \n",
    "\n",
    "print(nombreUpper.upper())"
   ]
  },
  {
   "cell_type": "code",
   "execution_count": 12,
   "metadata": {},
   "outputs": [
    {
     "name": "stdout",
     "output_type": "stream",
     "text": [
      "programacion facil\n"
     ]
    }
   ],
   "source": [
    "# lower() Coloca todas las letras en minusculas\n",
    "\n",
    "nombreLower = \"PROGRAMACION FACIL\" \n",
    "\n",
    "print(nombreLower.lower())"
   ]
  },
  {
   "cell_type": "markdown",
   "metadata": {},
   "source": [
    "## Strings IV"
   ]
  },
  {
   "cell_type": "code",
   "execution_count": 13,
   "metadata": {},
   "outputs": [
    {
     "name": "stdout",
     "output_type": "stream",
     "text": [
      "Lenguajes de programacion:\n",
      "\tPython\n",
      "\tJavaScript\n",
      "\tJava\n",
      "\tPHP\n",
      "\tTypeScript\n"
     ]
    }
   ],
   "source": [
    "# \\n para un salto de linea\n",
    "# \\t para una tabulacion\n",
    "print(\"Lenguajes de programacion:\\n\\tPython\\n\\tJavaScript\\n\\tJava\\n\\tPHP\\n\\tTypeScript\")"
   ]
  },
  {
   "cell_type": "markdown",
   "metadata": {},
   "source": [
    "## Operadores I"
   ]
  },
  {
   "cell_type": "code",
   "execution_count": 14,
   "metadata": {},
   "outputs": [
    {
     "name": "stdout",
     "output_type": "stream",
     "text": [
      "Resultado de la suma: 10\n",
      "Resultado de la resta: -2\n",
      "Resultado de la multiplicacion: 24\n",
      "Resultado de la divicion: 0.6666666666666666\n"
     ]
    }
   ],
   "source": [
    "suma = 4+6\n",
    "resta = 4-6\n",
    "mult = 4*6\n",
    "divicion = 4/6\n",
    "\n",
    "print(f'Resultado de la suma: {suma}\\nResultado de la resta: {resta}\\nResultado de la multiplicacion: {mult}\\nResultado de la divicion: {divicion}')"
   ]
  },
  {
   "cell_type": "markdown",
   "metadata": {},
   "source": [
    "## Operadores II"
   ]
  },
  {
   "cell_type": "code",
   "execution_count": 15,
   "metadata": {},
   "outputs": [
    {
     "name": "stdout",
     "output_type": "stream",
     "text": [
      "Resultado de exponente: 3125\n"
     ]
    }
   ],
   "source": [
    "# Exponentes **\n",
    "\n",
    "elevado = 5 ** 5\n",
    "\n",
    "print(f'Resultado de exponente: {elevado}')"
   ]
  },
  {
   "cell_type": "markdown",
   "metadata": {},
   "source": [
    "## FLOATS y ROUND"
   ]
  },
  {
   "cell_type": "code",
   "execution_count": 16,
   "metadata": {},
   "outputs": [
    {
     "name": "stdout",
     "output_type": "stream",
     "text": [
      "86.4268\n"
     ]
    }
   ],
   "source": [
    "# Floats numero con decimales\n",
    "# ROUND sirve para definir en numero decimales \n",
    "num1 = 40.45\n",
    "\n",
    "num2 = 45.9768\n",
    "\n",
    "resultado = num1 + num2\n",
    "\n",
    "print(round(resultado, 4))"
   ]
  },
  {
   "cell_type": "markdown",
   "metadata": {},
   "source": [
    "## Listas I"
   ]
  },
  {
   "cell_type": "code",
   "execution_count": 17,
   "metadata": {},
   "outputs": [
    {
     "name": "stdout",
     "output_type": "stream",
     "text": [
      "Samsung\n"
     ]
    }
   ],
   "source": [
    "smartphones = ['Xiaomi', 'Iphone', 'Huawei', 'Samsung']\n",
    "\n",
    "print(smartphones[3])"
   ]
  },
  {
   "cell_type": "markdown",
   "metadata": {},
   "source": [
    "## Listas II"
   ]
  },
  {
   "cell_type": "code",
   "execution_count": 18,
   "metadata": {},
   "outputs": [
    {
     "name": "stdout",
     "output_type": "stream",
     "text": [
      "El ultimo elementos es: Estados Unidos\n"
     ]
    }
   ],
   "source": [
    "paises = [\"Argentina\", \"Brasil\", \"Colombia\", \"Chile\", \"México\", \"Perú\", \"España\", \"Francia\", \"Italia\", \"Estados Unidos\"]\n",
    "\n",
    "# numero negativos para acceder a los ultimos elementos\n",
    "print(f\"El ultimo elementos es: {paises[-1]}\")"
   ]
  },
  {
   "cell_type": "markdown",
   "metadata": {},
   "source": [
    "## Listas III \n",
    "### DEL - para eliminar listas o un elemento"
   ]
  },
  {
   "cell_type": "code",
   "execution_count": 19,
   "metadata": {},
   "outputs": [
    {
     "name": "stdout",
     "output_type": "stream",
     "text": [
      "['CPU', 'Motherboard', 'RAM', 'GPU', 'Storage (HDD/SSD)', 'Power Supply', 'Cooling (CPU cooler, fans)']\n"
     ]
    }
   ],
   "source": [
    "hardware = [\"CPU\",\"Motherboard\",\"RAM\",\"GPU\",\"Storage (HDD/SSD)\",\"Power Supply\",\"Case\",\"Cooling (CPU cooler, fans)\"]\n",
    "\n",
    "del hardware[-2]\n",
    "# Se elimino el elemento -2 de la lista\n",
    "print(hardware)"
   ]
  },
  {
   "cell_type": "markdown",
   "metadata": {},
   "source": [
    "## Listas IV\n",
    "### Remove - elimina un elemento con su valor"
   ]
  },
  {
   "cell_type": "code",
   "execution_count": 20,
   "metadata": {},
   "outputs": [
    {
     "name": "stdout",
     "output_type": "stream",
     "text": [
      "['Motherboard', 'GPU', 'Storage (HDD/SSD)', 'Power Supply', 'Case', 'Cooling (CPU cooler, fans)']\n"
     ]
    }
   ],
   "source": [
    "hardware = [\"CPU\",\"Motherboard\",\"RAM\",\"GPU\",\"Storage (HDD/SSD)\",\"Power Supply\",\"Case\",\"Cooling (CPU cooler, fans)\"]\n",
    "\n",
    "hardware.remove(\"CPU\")\n",
    "hardware.remove(\"RAM\")\n",
    "\n",
    "print(hardware)"
   ]
  },
  {
   "cell_type": "markdown",
   "metadata": {},
   "source": [
    "## Lista V\n",
    "### Pop - para remover un elemeneto especifico"
   ]
  },
  {
   "cell_type": "code",
   "execution_count": 21,
   "metadata": {},
   "outputs": [
    {
     "name": "stdout",
     "output_type": "stream",
     "text": [
      "['azul', 'verde', 'amarillo']\n",
      "El color eliminado de la lista y guardado es el: rojo\n"
     ]
    }
   ],
   "source": [
    "colores = [\"rojo\", \"azul\", \"verde\", \"amarillo\"]\n",
    "\n",
    "# Con pop eliminamos el color rojo de la lista\n",
    "# Y se guarda en una variable\n",
    "guardaColor = colores.pop(0)\n",
    "\n",
    "print(colores)\n",
    "\n",
    "print(f\"El color eliminado de la lista y guardado es el: {guardaColor}\")"
   ]
  },
  {
   "cell_type": "markdown",
   "metadata": {},
   "source": [
    "## Lista VI\n",
    "### Append - Agrega un elemento"
   ]
  },
  {
   "cell_type": "code",
   "execution_count": 22,
   "metadata": {},
   "outputs": [
    {
     "name": "stdout",
     "output_type": "stream",
     "text": [
      "['Rojo', 'Azul']\n"
     ]
    }
   ],
   "source": [
    "colores = []\n",
    "\n",
    "colores.append(\"Rojo\")\n",
    "colores.append(\"Azul\")\n",
    "\n",
    "print(colores)"
   ]
  },
  {
   "cell_type": "markdown",
   "metadata": {},
   "source": [
    "## Lista VII\n",
    "### Insert - Inserta un elemento en un lugar que le especifique"
   ]
  },
  {
   "cell_type": "code",
   "execution_count": 23,
   "metadata": {},
   "outputs": [
    {
     "name": "stdout",
     "output_type": "stream",
     "text": [
      "['rojo', 'azul', 'verde', 'Naranja', 'amarillo']\n"
     ]
    }
   ],
   "source": [
    "colores = [\"rojo\", \"azul\", \"verde\", \"amarillo\"]\n",
    "\n",
    "colores.insert(-1, \"Naranja\")\n",
    "\n",
    "print(colores)"
   ]
  },
  {
   "cell_type": "markdown",
   "metadata": {},
   "source": [
    "## Lista VIII\n",
    "### Sort - Ordenar listas"
   ]
  },
  {
   "cell_type": "code",
   "execution_count": 24,
   "metadata": {},
   "outputs": [
    {
     "name": "stdout",
     "output_type": "stream",
     "text": [
      "['Naranja', 'amarillo', 'azul', 'rojo', 'verde']\n",
      "['verde', 'rojo', 'azul', 'amarillo', 'Naranja']\n",
      "['Naranja', 'amarillo', 'azul', 'rojo', 'verde']\n",
      "['rojo', 'azul', 'verde', 'amarillo']\n"
     ]
    }
   ],
   "source": [
    "colores1 = [\"rojo\", \"azul\", \"verde\", \"amarillo\"]\n",
    "# Ordena alfabeticamente\n",
    "colores.sort()\n",
    "\n",
    "print(colores)\n",
    "\n",
    "# Ordena alfabeticamente a la inversa\n",
    "colores.sort(reverse=True)\n",
    "\n",
    "print(colores)\n",
    "\n",
    "# sorted los cambios no son pernanentes\n",
    "print(sorted(colores))\n",
    "print(colores1)"
   ]
  },
  {
   "cell_type": "markdown",
   "metadata": {},
   "source": [
    "## Lista IX\n",
    "### Len - Cuenta la cantidad de elementos"
   ]
  },
  {
   "cell_type": "code",
   "execution_count": 25,
   "metadata": {},
   "outputs": [
    {
     "name": "stdout",
     "output_type": "stream",
     "text": [
      "63\n",
      "Gambia\n"
     ]
    }
   ],
   "source": [
    "paises = [\"Afghanistan\", \"Albania\", \"Algeria\", \"Andorra\", \"Angola\", \"Antigua and Barbuda\", \"Argentina\", \"Armenia\", \"Australia\", \"Austria\", \"Azerbaijan\", \"Bahamas\", \"Bahrain\", \"Bangladesh\", \"Barbados\", \"Belarus\", \"Belgium\", \"Belize\", \"Benin\", \"Bhutan\", \"Bolivia\", \"Bosnia and Herzegovina\", \"Botswana\", \"Brazil\", \"Brunei\", \"Bulgaria\", \"Burkina Faso\", \"Burundi\", \"Cabo Verde\", \"Cambodia\", \"Cameroon\", \"Canada\", \"Central African Republic\", \"Chad\", \"Chile\", \"China\", \"Colombia\", \"Comoros\", \"Congo, Democratic Republic of the\", \"Congo, Republic of the\", \"Costa Rica\", \"Côte d'Ivoire\", \"Croatia\", \"Cuba\", \"Cyprus\", \"Czech Republic\", \"Denmark\", \"Djibouti\", \"Dominica\", \"Dominican Republic\", \"Ecuador\", \"Egypt\", \"El Salvador\", \"Equatorial Guinea\", \"Eritrea\", \"Estonia\", \"Eswatini\", \"Ethiopia\", \"Fiji\", \"Finland\", \"France\", \"Gabon\", \"Gambia\", \"Georgia\", \"Germany\", \"Ghana\", \"Greece\", \"Grenada\", \"Guatemala\", \"Guinea\", \"Guinea-Bissau\", \"Guyana\", \"Haiti\", \"Honduras\", \"Hungary\", \"Iceland\", \"India\", \"Indonesia\", \"Iran\", \"Iraq\", \"Ireland\", \"Israel\", \"Italy\", \"Jamaica\", \"Japan\", \"Jordan\", \"Kazakhstan\", \"Kenya\", \"Kiribati\", \"Kuwait\", \"Kyrgyzstan\", \"Laos\", \"Latvia\", \"Lebanon\", \"Lesotho\", \"Liberia\", \"Libya\", \"Liechtenstein\", \"Lithuania\", \"Luxembourg\", \"Madagascar\", \"Malawi\", \"Malaysia\", \"Maldives\", \"Mali\", \"Malta\", \"Marshall Islands\", \"Mauritania\", \"Mauritius\", \"Mexico\", \"Micronesia\", \"Moldova\", \"Monaco\", \"Mongolia\", \"Montenegro\", \"Morocco\", \"Mozambique\", \"Myanmar\", \"Namibia\", \"Nauru\", \"Nepal\", \"Netherlands\", \"New Zealand\", \"Nicaragua\", \"Niger\", \"Nigeria\", \"North Macedonia\", \"Norway\", \"Oman\", \"Pakistan\", \"Palau\", \"Panama\", \"Papua New Guinea\", \"Paraguay\", \"Peru\", \"Philippines\", \"Poland\", \"Portugal\", \"Qatar\", \"Romania\", \"Russia\", \"Rwanda\", \"Saint Kitts and Nevis\", \"Saint Lucia\", \"Saint Vincent and the Grenadines\", \"Samoa\", \"San Marino\", \"Sao Tome and Principe\", \"Saudi Arabia\", \"Senegal\", \"Serbia\", \"Seychelles\", \"Sierra Leone\", \"Singapore\", \"Slovakia\", \"Slovenia\", \"Solomon Islands\", \"Somalia\", \"South Africa\", \"South Korea\", \"South Sudan\", \"Spain\", \"Sri Lanka\", \"Sudan\", \"Suriname\", \"Sweden\", \"Switzerland\", \"Syria\", \"Taiwan\", \"Tajikistan\", \"Tanzania\", \"Thailand\", \"Timor-Leste\", \"Togo\", \"Tonga\", \"Trinidad and Tobago\", \"Tunisia\", \"Turkey\", \"Turkmenistan\", \"Tuvalu\", \"Uganda\", \"Ukraine\", \"United Arab Emirates\", \"United Kingdom\", \"United States\", \"Uruguay\", \"Uzbekistan\", \"Vanuatu\", \"Venezuela\", \"Vietnam\", \"Yemen\", \"Zambia\", \"Zimbabwe\"]\n",
    "\n",
    "del paises[63:193]\n",
    "\n",
    "print(len(paises))\n",
    "\n",
    "print(paises[-1])"
   ]
  },
  {
   "cell_type": "markdown",
   "metadata": {},
   "source": [
    "## Diferencias entre listas"
   ]
  },
  {
   "cell_type": "code",
   "execution_count": 26,
   "metadata": {},
   "outputs": [
    {
     "name": "stdout",
     "output_type": "stream",
     "text": [
      "El resultado de la operacion es:  30\n"
     ]
    }
   ],
   "source": [
    "lista = [\"Rojo\", \"Azul\", \"Verde\", \"Amarillo\"]\n",
    "\n",
    "tupla = (10,15,20, \"El resultado de la operacion es: \")\n",
    "\n",
    "print(tupla[3], tupla[0] + tupla[2])"
   ]
  },
  {
   "cell_type": "markdown",
   "metadata": {},
   "source": [
    "## Cómo convertir TUPLAS a LISTAS y viceversa"
   ]
  },
  {
   "cell_type": "code",
   "execution_count": 27,
   "metadata": {},
   "outputs": [
    {
     "name": "stdout",
     "output_type": "stream",
     "text": [
      "('Rojo', 'Azul', 'Verde', 'Amarillo')\n",
      "<class 'tuple'>\n",
      "['Rojo', 'Azul', 'Verde', 'Amarillo']\n",
      "<class 'list'>\n"
     ]
    }
   ],
   "source": [
    "lista = [\"Rojo\", \"Azul\", \"Verde\", \"Amarillo\"]\n",
    "# Contirtiendo en una tupla\n",
    "tupla = tuple(lista)\n",
    "\n",
    "print(tupla)\n",
    "print(type(tupla))\n",
    "\n",
    "tupla = (\"Rojo\", \"Azul\", \"Verde\", \"Amarillo\")\n",
    "# Convirtiendo en una lista\n",
    "lista = list(tupla)\n",
    "print(lista)\n",
    "print(type(lista))"
   ]
  },
  {
   "cell_type": "markdown",
   "metadata": {},
   "source": [
    "## Condicional I\n",
    "### IF"
   ]
  },
  {
   "cell_type": "code",
   "execution_count": 28,
   "metadata": {},
   "outputs": [
    {
     "name": "stdout",
     "output_type": "stream",
     "text": [
      "Se ha ejecutado el if.\n"
     ]
    }
   ],
   "source": [
    "num1 = 10\n",
    "num2 =  20\n",
    "\n",
    "if num1 != num2:\n",
    "    print(\"Se ha ejecutado el if.\")"
   ]
  },
  {
   "cell_type": "markdown",
   "metadata": {},
   "source": [
    "## Condifional II\n",
    "## IF - ELSE\n"
   ]
  },
  {
   "cell_type": "code",
   "execution_count": 29,
   "metadata": {},
   "outputs": [
    {
     "name": "stdout",
     "output_type": "stream",
     "text": [
      "Puedes acceder, eres mayor de edad.\n"
     ]
    }
   ],
   "source": [
    "edad = 20\n",
    "\n",
    "if edad >= 18:\n",
    "    print(\"Puedes acceder, eres mayor de edad.\")\n",
    "\n",
    "else:\n",
    "    print(\"No puedes acceder, eres menor de edad\")"
   ]
  },
  {
   "cell_type": "markdown",
   "metadata": {},
   "source": [
    "## Condicional III\n",
    "### IF - ELIF - ELSE"
   ]
  },
  {
   "cell_type": "code",
   "execution_count": 30,
   "metadata": {},
   "outputs": [
    {
     "name": "stdout",
     "output_type": "stream",
     "text": [
      "Eres menor de edad\n"
     ]
    }
   ],
   "source": [
    "edad = int(input(\"¿Cual es tu edad?: \"))\n",
    "\n",
    "if edad <= 0:\n",
    "    print(\"nadie puede tener esa edad\")\n",
    "\n",
    "elif edad >= 1 and edad >= 17:\n",
    "    print(\"Eres menor de edad\")\n",
    "    \n",
    "elif edad <= 100:\n",
    "    print(\"Eres mayor de edad\")\n",
    "\n",
    "else:\n",
    "    print(\"Eres no valida\")"
   ]
  },
  {
   "cell_type": "markdown",
   "metadata": {},
   "source": [
    "## Condicionales IV \n",
    "### Comprobar datos en listas y tuplas "
   ]
  },
  {
   "cell_type": "code",
   "execution_count": 31,
   "metadata": {},
   "outputs": [
    {
     "name": "stdout",
     "output_type": "stream",
     "text": [
      "El navegadorr que buscas no esta en la lista\n",
      "\n"
     ]
    }
   ],
   "source": [
    "entrada = input(\"intriduce el nombre de un navegador: \")\n",
    "\n",
    "navegadores = ['chrome', 'firefox', 'opera', 'safari']\n",
    "\n",
    "if entrada in navegadores:\n",
    "    print(\"El navegador que buscas esta en la lista\")\n",
    "    \n",
    "else:\n",
    "    print(\"El navegadorr que buscas no esta en la lista\")\n",
    "print()"
   ]
  },
  {
   "cell_type": "markdown",
   "metadata": {},
   "source": [
    "## Condicionales V\n",
    "### Multiples condicionales IF"
   ]
  },
  {
   "cell_type": "code",
   "execution_count": 32,
   "metadata": {},
   "outputs": [
    {
     "name": "stdout",
     "output_type": "stream",
     "text": [
      "Saludos guerrero, ¿Que desea comprar?\n",
      "\n",
      "Items disponibles:\n",
      "\n",
      "Espadas:\n",
      "\n",
      "1-Espada Nivel 1: 150 Monedas de oro.\n",
      "2-Espada Nivel 2: 1200 Modedas de oro.\n",
      "\n",
      "Escudos: \n",
      "\n",
      "3-Escudo Nivel 1: 100 Monedas de oro.\n",
      "4-Escudo Nivel 2: 750 Modedas de oro.\n",
      "\n",
      "No te llega el dinero para todo eso\n"
     ]
    }
   ],
   "source": [
    "print(\"Saludos guerrero, ¿Que desea comprar?\\n\\n\" +\n",
    "      \"Items disponibles:\\n\\n\" +\n",
    "      \"Espadas:\\n\\n\" +\n",
    "      \"1-Espada Nivel 1: 150 Monedas de oro.\\n\" +\n",
    "      \"2-Espada Nivel 2: 1200 Modedas de oro.\\n\\n\"+\n",
    "      \"Escudos: \\n\\n\" +\n",
    "      \"3-Escudo Nivel 1: 100 Monedas de oro.\\n\" +\n",
    "      \"4-Escudo Nivel 2: 750 Modedas de oro.\\n\")\n",
    "\n",
    "comprar = [3,1,2,4]\n",
    "\n",
    "dinero = 1500\n",
    "\n",
    "espadaLV1 = 150\n",
    "espadaLV2 = 1200\n",
    "escudoLV1 = 100\n",
    "escudoLV2 = 750\n",
    "\n",
    "if 0 in comprar or comprar == []:\n",
    "    print(\"Especifica un numero entre 1 y 4.\")\n",
    "    \n",
    "if 1 in comprar:\n",
    "    dinero = dinero - espadaLV1\n",
    "    \n",
    "if 2 in comprar:\n",
    "    dinero = dinero - espadaLV2\n",
    "    \n",
    "if 3 in comprar:\n",
    "    dinero = dinero - escudoLV1\n",
    "    \n",
    "if 4 in comprar:\n",
    "    dinero = dinero - escudoLV2\n",
    "    \n",
    "else:\n",
    "    print(\"Espeficica un numero entre 1 y 4\")\n",
    "    \n",
    "if dinero < 0:\n",
    "    print(\"No te llega el dinero para todo eso\")\n",
    "    \n",
    "if comprar == [1] or comprar == [2] or comprar == [3] or comprar == [4]:\n",
    "    print(\"Te quedan \" + str(dinero) + \" Modendas de oro.\")\n",
    "    print(\"se añadio el/los objeto/s a tu inventario \")"
   ]
  },
  {
   "cell_type": "markdown",
   "metadata": {},
   "source": [
    "## Condicionales VI\n",
    "### Tipos de condicionales"
   ]
  },
  {
   "cell_type": "code",
   "execution_count": 33,
   "metadata": {},
   "outputs": [
    {
     "name": "stdout",
     "output_type": "stream",
     "text": [
      "x es menor que y\n"
     ]
    }
   ],
   "source": [
    "# Las sangrias\n",
    "\n",
    "x = 100\n",
    "y = 200\n",
    "\n",
    "\n",
    "if x < y:\n",
    "    pass\n",
    "print(\"x es menor que y\")\n",
    "# ERROR falta la sangria\n"
   ]
  },
  {
   "cell_type": "code",
   "execution_count": 34,
   "metadata": {},
   "outputs": [
    {
     "name": "stdout",
     "output_type": "stream",
     "text": [
      "x es menor que y\n"
     ]
    }
   ],
   "source": [
    "# Codigo limpio\n",
    "\n",
    "x = 100\n",
    "y = 200\n",
    "\n",
    "if x < y:\n",
    "    print(\"x es menor que y\")"
   ]
  },
  {
   "cell_type": "code",
   "execution_count": 35,
   "metadata": {},
   "outputs": [
    {
     "name": "stdout",
     "output_type": "stream",
     "text": [
      "Se cumplen las dos condiciones\n"
     ]
    }
   ],
   "source": [
    "# Operadores logicos\n",
    "\n",
    "x = 100\n",
    "y = 200\n",
    "z = 300\n",
    "\n",
    "# and\n",
    "\n",
    "if x < y and x < z:\n",
    "    print(\"Se cumplen las dos condiciones\")\n",
    "else:\n",
    "    print(\"No se cumple una o ninguna de la condiciones\")"
   ]
  },
  {
   "cell_type": "code",
   "execution_count": 36,
   "metadata": {},
   "outputs": [
    {
     "name": "stdout",
     "output_type": "stream",
     "text": [
      "Se cumplen las condiciones\n"
     ]
    }
   ],
   "source": [
    "# or\n",
    "\n",
    "x = 100\n",
    "y = 200\n",
    "z = 300\n",
    "\n",
    "if x < y or x > z:\n",
    "    print(\"Se cumplen las condiciones\")\n",
    "else:\n",
    "    print(\"No se cumple ninguna de las condiciones\")"
   ]
  },
  {
   "cell_type": "markdown",
   "metadata": {},
   "source": [
    "## Bucles I\n",
    "### Bucle WHILE"
   ]
  },
  {
   "cell_type": "code",
   "execution_count": 37,
   "metadata": {},
   "outputs": [
    {
     "name": "stdout",
     "output_type": "stream",
     "text": [
      "1\n",
      "2\n",
      "3\n",
      "4\n",
      "5\n",
      "6\n",
      "7\n",
      "8\n",
      "9\n"
     ]
    }
   ],
   "source": [
    "# Bucle infinito\n",
    "\n",
    "x = 1\n",
    "\n",
    "while x < 10:\n",
    "    print(x)\n",
    "    x += 1"
   ]
  },
  {
   "cell_type": "code",
   "execution_count": 38,
   "metadata": {},
   "outputs": [
    {
     "name": "stdout",
     "output_type": "stream",
     "text": [
      "20\n",
      "salir\n"
     ]
    }
   ],
   "source": [
    "# Bucle infinito controlado\n",
    "\n",
    "frase = \"lo que escribas, lo repito:\"\n",
    "frase = \"\\nIntroduce el comando 'salir' para finalizar el programa.\\n\"\n",
    "\n",
    "mensaje = \"\"\n",
    "\n",
    "\n",
    "while mensaje != \"salir\":\n",
    "    mensaje = input(frase)\n",
    "    print(mensaje)"
   ]
  },
  {
   "cell_type": "markdown",
   "metadata": {},
   "source": [
    "## Bucles II\n",
    "### Bucle while"
   ]
  },
  {
   "cell_type": "code",
   "execution_count": 39,
   "metadata": {},
   "outputs": [
    {
     "name": "stdout",
     "output_type": "stream",
     "text": [
      "1\n",
      "2\n",
      "3\n",
      "4\n",
      "5\n"
     ]
    }
   ],
   "source": [
    "# Bucle terminado (break)\n",
    "\n",
    "x = 1\n",
    "\n",
    "while x <= 10:\n",
    "    print(x)\n",
    "    if x == 5: # El bucle se termina en 5\n",
    "        break\n",
    "    x += 1"
   ]
  },
  {
   "cell_type": "code",
   "execution_count": 40,
   "metadata": {},
   "outputs": [
    {
     "name": "stdout",
     "output_type": "stream",
     "text": [
      "1\n",
      "2\n",
      "3\n",
      "4\n",
      "5\n",
      "6\n",
      "7\n",
      "8\n",
      "9\n",
      "10\n",
      "Saliendo del bucle while...\n"
     ]
    }
   ],
   "source": [
    "# Mensaje cuando se termine el bucle\n",
    "\n",
    "x = 1\n",
    "\n",
    "while x <= 10:\n",
    "    print(x)\n",
    "    x += 1\n",
    "else:\n",
    "    print(\"Saliendo del bucle while...\")"
   ]
  },
  {
   "cell_type": "code",
   "execution_count": 41,
   "metadata": {},
   "outputs": [
    {
     "name": "stdout",
     "output_type": "stream",
     "text": [
      "1\n",
      "2\n",
      "3\n",
      "4\n",
      "6\n",
      "8\n",
      "9\n",
      "10\n"
     ]
    }
   ],
   "source": [
    "# continue\n",
    "\n",
    "x = 0\n",
    "\n",
    "while x < 10:\n",
    "    x += 1\n",
    "    if x == 5 or x == 7: # El bucle se salta los valores 5 y 7\n",
    "        continue\n",
    "    print(x)"
   ]
  },
  {
   "cell_type": "markdown",
   "metadata": {},
   "source": [
    "## Bucles III\n",
    "### Bucle for"
   ]
  },
  {
   "cell_type": "code",
   "execution_count": 42,
   "metadata": {},
   "outputs": [
    {
     "name": "stdout",
     "output_type": "stream",
     "text": [
      "P\n",
      "y\n",
      "t\n",
      "h\n",
      "o\n",
      "n\n"
     ]
    }
   ],
   "source": [
    "for x in \"Python\":\n",
    "    print(x)"
   ]
  },
  {
   "cell_type": "code",
   "execution_count": 43,
   "metadata": {},
   "outputs": [
    {
     "name": "stdout",
     "output_type": "stream",
     "text": [
      "Curso de Python\n",
      "Curso de Java\n",
      "Curso de COBOL\n",
      "Curso de HTML\n"
     ]
    }
   ],
   "source": [
    "# Recorer una lista \n",
    "\n",
    "cursos = ['Python', 'Java', 'COBOL', \"HTML\"]\n",
    "\n",
    "for curso in cursos:\n",
    "    print(f'Curso de {curso}')"
   ]
  },
  {
   "cell_type": "code",
   "execution_count": 44,
   "metadata": {},
   "outputs": [
    {
     "name": "stdout",
     "output_type": "stream",
     "text": [
      "Curso de Python\n",
      "Curso de Java\n",
      "Curso de HTML\n"
     ]
    }
   ],
   "source": [
    "# Saltar un elemento\n",
    "\n",
    "cursos = ['Python', 'Java', 'COBOL', \"HTML\"]\n",
    "\n",
    "for curso in cursos:\n",
    "    if curso == 'COBOL': # El bucle se salta el elemento COBOL\n",
    "        continue\n",
    "    print(f'Curso de {curso}')"
   ]
  },
  {
   "cell_type": "code",
   "execution_count": 45,
   "metadata": {},
   "outputs": [
    {
     "name": "stdout",
     "output_type": "stream",
     "text": [
      "Curso de Python\n",
      "Curso de Java\n"
     ]
    }
   ],
   "source": [
    "# Terminal el bucle con break\n",
    "\n",
    "cursos = ['Python', 'Java', 'COBOL', \"HTML\"]\n",
    "\n",
    "for curso in cursos:\n",
    "    if curso == 'COBOL': # El bucle se termina en COBOL\n",
    "        break\n",
    "    print(f'Curso de {curso}')"
   ]
  },
  {
   "cell_type": "code",
   "execution_count": 46,
   "metadata": {},
   "outputs": [],
   "source": [
    "# bucles vacios\n",
    "\n",
    "cursos = []\n",
    "\n",
    "for x in cursos:\n",
    "    pass"
   ]
  },
  {
   "cell_type": "markdown",
   "metadata": {},
   "source": [
    "## Bucles IV\n",
    "## Bucle for II\n"
   ]
  },
  {
   "cell_type": "code",
   "execution_count": 47,
   "metadata": {},
   "outputs": [
    {
     "name": "stdout",
     "output_type": "stream",
     "text": [
      "0\n",
      "1\n",
      "2\n",
      "3\n",
      "4\n",
      "5\n",
      "6\n",
      "7\n",
      "8\n",
      "9\n"
     ]
    }
   ],
   "source": [
    "for x in range(10):\n",
    "    print(x)"
   ]
  },
  {
   "cell_type": "code",
   "execution_count": 48,
   "metadata": {},
   "outputs": [
    {
     "name": "stdout",
     "output_type": "stream",
     "text": [
      "Lista de numeros:\n",
      "\n",
      "Numero de operacion ->  0 Multplicacion -> 2 Resultado: -> 4\n",
      "Numero de operacion ->  1 Multplicacion -> 4 Resultado: -> 8\n",
      "Numero de operacion ->  2 Multplicacion -> 8 Resultado: -> 16\n",
      "Numero de operacion ->  3 Multplicacion -> 16 Resultado: -> 32\n",
      "Numero de operacion ->  4 Multplicacion -> 32 Resultado: -> 64\n",
      "Numero de operacion ->  5 Multplicacion -> 64 Resultado: -> 128\n",
      "Numero de operacion ->  6 Multplicacion -> 128 Resultado: -> 256\n"
     ]
    }
   ],
   "source": [
    "print(\"Lista de numeros:\\n\")\n",
    "\n",
    "numeros = [2,4,8,16,32,64,128]\n",
    "\n",
    "for x in range(len(numeros)):\n",
    "    print(\"Numero de operacion -> \", x, \"Multplicacion ->\", numeros[x], \"Resultado: ->\", numeros[x] + numeros[x])"
   ]
  },
  {
   "cell_type": "code",
   "execution_count": 49,
   "metadata": {},
   "outputs": [
    {
     "name": "stdout",
     "output_type": "stream",
     "text": [
      "0\n",
      "1\n",
      "2\n",
      "3\n",
      "4\n",
      "5\n",
      "6\n",
      "7\n",
      "8\n",
      "9\n",
      "Se acabo el bucle for...\n"
     ]
    }
   ],
   "source": [
    "for x in range(10):\n",
    "    print(x)\n",
    "else:\n",
    "    print(\"Se acabo el bucle for...\")"
   ]
  },
  {
   "cell_type": "code",
   "execution_count": 50,
   "metadata": {},
   "outputs": [
    {
     "name": "stdout",
     "output_type": "stream",
     "text": [
      "107\n",
      "207\n",
      "307\n",
      "407\n",
      "507\n"
     ]
    }
   ],
   "source": [
    "num1 = [\"1\", \"2\", \"3\", \"4\", \"5\"]\n",
    "num2 = \"0\"\n",
    "num3 = \"7\"\n",
    "\n",
    "for x in num1:\n",
    "    for y in num2:\n",
    "        for z in num3:\n",
    "            print(x + y + z)"
   ]
  },
  {
   "cell_type": "markdown",
   "metadata": {},
   "source": [
    "## Diccionarios\n",
    "### El metodo DICT"
   ]
  },
  {
   "cell_type": "code",
   "execution_count": 51,
   "metadata": {},
   "outputs": [
    {
     "name": "stdout",
     "output_type": "stream",
     "text": [
      "{'Categoria': 'Teclados', 'Modelo': 'HyperX Alloy FPS Pro', 'Precio': '89,99'}\n"
     ]
    }
   ],
   "source": [
    "teclado1 = {\n",
    "    \"Categoria\": \"Teclados\",\n",
    "    \"Modelo\": \"HyperX Alloy FPS Pro\",\n",
    "    \"Precio\": \"89,99\"\n",
    "    }\n",
    "\n",
    "teclado2 = {\n",
    "    \"Categoria\": \"Teclados\", \n",
    "    \"Modelo\": \"Corsair K55 LUX\",\n",
    "    \"Precio\": \"59,99\"\n",
    "    }\n",
    "\n",
    "muestraTeclado = dict(teclado1)\n",
    "print(muestraTeclado)"
   ]
  },
  {
   "cell_type": "markdown",
   "metadata": {},
   "source": [
    "## Diccionarios II\n",
    "### Usar DICCIONARIOS con el bucle FOR"
   ]
  },
  {
   "cell_type": "code",
   "execution_count": 52,
   "metadata": {},
   "outputs": [
    {
     "name": "stdout",
     "output_type": "stream",
     "text": [
      "Teclados\n",
      "HyperX Alloy FPS Pro\n",
      "89,99\n"
     ]
    }
   ],
   "source": [
    "teclado1 = {\n",
    "    \"Categoria\": \"Teclados\",\n",
    "    \"Modelo\": \"HyperX Alloy FPS Pro\",\n",
    "    \"Precio\": \"89,99\"\n",
    "    }\n",
    "\n",
    "teclado2 = {\n",
    "    \"Categoria\": \"Teclados\", \n",
    "    \"Modelo\": \"Corsair K55 LUX\",\n",
    "    \"Precio\": \"59,99\"\n",
    "    }\n",
    "\n",
    "for x in teclado1:\n",
    "    print(teclado1[x])"
   ]
  },
  {
   "cell_type": "markdown",
   "metadata": {},
   "source": [
    "## Diccionarios III\n",
    "### Los metodos con DICCIONARIOS"
   ]
  },
  {
   "cell_type": "code",
   "execution_count": 53,
   "metadata": {},
   "outputs": [
    {
     "name": "stdout",
     "output_type": "stream",
     "text": [
      "3\n",
      "{'Modelo': 'HyperX Alloy FPS Pro', 'Precio': '89,99'}\n",
      "{'Modelo': 'HyperX Alloy FPS Pro'}\n",
      "{}\n",
      "{'Precio': '60.69', 'Color': 'Negro'}\n",
      "{'Precio': '60.69', 'Color': 'Negro'}\n",
      "{'Categoria': 'Teclados', 'Modelo': 'Logitech G213', 'Precio': '29,99'}\n",
      "{'Categoria': 'Valor vacio', 'Modelo': 'Valor vacio', 'Precio': 'Valor vacio'}\n",
      "dict_keys(['Categoria', 'Modelo', 'Precio'])\n"
     ]
    }
   ],
   "source": [
    "teclado1 = {\n",
    "    \"Categoria\": \"Teclados\",\n",
    "    \"Modelo\": \"HyperX Alloy FPS Pro\",\n",
    "    \"Precio\": \"89,99\"\n",
    "    }\n",
    "\n",
    "teclado2 = {\n",
    "    \"Categoria\": \"Teclados\", \n",
    "    \"Modelo\": \"Corsair K55 LUX\",\n",
    "    \"Precio\": \"59,99\"\n",
    "    }\n",
    "\n",
    "# Cantidad de elementos con LEN\n",
    "print(len(teclado1))\n",
    "\n",
    "# Eliminar un elemento con POP\n",
    "teclado1.pop(\"Categoria\")\n",
    "print(teclado1)\n",
    "\n",
    "# Eliminar un elemento con DEL\n",
    "del teclado1[\"Precio\"]\n",
    "print(teclado1)\n",
    "\n",
    "# Eliminar el diccionario completo con CLEAR\n",
    "teclado1.clear()\n",
    "print(teclado1)\n",
    "\n",
    "# Agregar un elemento o cambiar su valor\n",
    "teclado1[\"Precio\"] = \"60.69\"\n",
    "teclado1[\"Color\"] = \"Negro\"\n",
    "print(teclado1)\n",
    "\n",
    "# Copiar un diccionario completo con todos sus valores\n",
    "tecladoCopia = teclado1.copy()\n",
    "print(tecladoCopia)\n",
    "\n",
    "# Crear un diccionario con dict()\n",
    "teclado3 = dict(Categoria = \"Teclados\", Modelo = \"Logitech G213\", Precio = \"29,99\")\n",
    "print(teclado3)\n",
    "\n",
    "# Agregar el mismo valor a 3 diccionarios diferentes con FROMKEYS\n",
    "teclado4 = (\"Categoria\", \"Modelo\", \"Precio\")\n",
    "vacia = \"Valor vacio\"\n",
    "\n",
    "teclado4 = dict.fromkeys(teclado4, vacia)\n",
    "print(teclado4)\n",
    "\n",
    "#\n",
    "vistaTeclado = teclado3.keys()\n",
    "print(vistaTeclado)\n"
   ]
  },
  {
   "cell_type": "markdown",
   "metadata": {},
   "source": [
    "## Funciones I\n",
    "### Crear y llamar funciones con argumentos"
   ]
  },
  {
   "cell_type": "code",
   "execution_count": 55,
   "metadata": {},
   "outputs": [
    {
     "name": "stdout",
     "output_type": "stream",
     "text": [
      "Bienvenidos a Programacion Facil.\n"
     ]
    }
   ],
   "source": [
    "def saludar():\n",
    "    print(\"Bienvenidos a Programacion Facil.\")\n",
    "    \n",
    "saludar()"
   ]
  },
  {
   "cell_type": "code",
   "execution_count": 56,
   "metadata": {},
   "outputs": [
    {
     "name": "stdout",
     "output_type": "stream",
     "text": [
      "La familia Simpson\n",
      "\n",
      "Hormer Simpson\n",
      "Marge Simpson\n",
      "Lisa Simpson\n",
      "Bart Simpson\n",
      "Maggie Simpson\n"
     ]
    }
   ],
   "source": [
    "print(\"La familia Simpson\\n\")\n",
    "\n",
    "def familiaS(nombre):\n",
    "    print(nombre + \" Simpson\")\n",
    "    \n",
    "familiaS(\"Hormer\")\n",
    "familiaS(\"Marge\")\n",
    "familiaS(\"Lisa\")\n",
    "familiaS(\"Bart\")\n",
    "familiaS(\"Maggie\")"
   ]
  },
  {
   "cell_type": "markdown",
   "metadata": {},
   "source": [
    "## Funciones II\n",
    "### *args Argumenteos arbitrarios"
   ]
  },
  {
   "cell_type": "code",
   "execution_count": 2,
   "metadata": {},
   "outputs": [
    {
     "name": "stdout",
     "output_type": "stream",
     "text": [
      "El ultimo alumno es Antonio y el primero es Andres.\n"
     ]
    }
   ],
   "source": [
    "def alumnos (*args):\n",
    "    print(\"El ultimo alumno es \" + args[3] + \" y el primero es \" + args[0] + \".\") \n",
    "    \n",
    "alumnos(\"Andres\", \"Ana\", \"Andrea\", \"Antonio\")"
   ]
  },
  {
   "cell_type": "code",
   "execution_count": 3,
   "metadata": {},
   "outputs": [
    {
     "name": "stdout",
     "output_type": "stream",
     "text": [
      "Profesor: Juan\n",
      "Sustituto: Pedro\n",
      "Alumnos: Andres\n",
      "Alumnos: Ana\n",
      "Alumnos: Andrea\n",
      "Alumnos: Antonio\n"
     ]
    }
   ],
   "source": [
    "def alumnos_profesor(profesor, sustituto, *args):\n",
    "    print(\"Profesor: \" + profesor)\n",
    "    print(\"Sustituto: \" + sustituto)\n",
    "    for x in args:\n",
    "        print(\"Alumnos: \" + x)\n",
    "\n",
    "lista_alumnos = [\"Andres\", \"Ana\", \"Andrea\", \"Antonio\"]\n",
    "alumnos_profesor(\"Juan\", \"Pedro\", *lista_alumnos)\n"
   ]
  },
  {
   "cell_type": "markdown",
   "metadata": {},
   "source": [
    "## Funciones III\n",
    "### **kwargs - Diccionarios arbitrarios"
   ]
  },
  {
   "cell_type": "code",
   "execution_count": 2,
   "metadata": {},
   "outputs": [
    {
     "name": "stdout",
     "output_type": "stream",
     "text": [
      "El color 1 es: Rojo\n",
      "El color 2 es: Azul\n",
      "El color 3 es: Verde\n",
      "El color 4 es: Amarillo\n"
     ]
    }
   ],
   "source": [
    "def colores (color1, color2, color3, color4):\n",
    "    print(\"El color 1 es: \" + color1)\n",
    "    print(\"El color 2 es: \" + color2)\n",
    "    print(\"El color 3 es: \" + color3)\n",
    "    print(\"El color 4 es: \" + color4)\n",
    "\n",
    "colores(color1 = \"Rojo\", color2 = \"Azul\", color3 = \"Verde\", color4 = \"Amarillo\")"
   ]
  },
  {
   "cell_type": "markdown",
   "metadata": {},
   "source": [
    "### **kwargs"
   ]
  },
  {
   "cell_type": "code",
   "execution_count": 3,
   "metadata": {},
   "outputs": [
    {
     "name": "stdout",
     "output_type": "stream",
     "text": [
      "El color 1 es Rojo\n",
      "El color 2 es Azul\n",
      "El color 3 es Verde\n",
      "El color 4 es Amarillo\n"
     ]
    }
   ],
   "source": [
    "def colores (**kwargs):\n",
    "    print(\"El color 1 es \" + kwargs[\"color1\"])\n",
    "    print(\"El color 2 es \" + kwargs[\"color2\"])\n",
    "    print(\"El color 3 es \" + kwargs[\"color3\"])\n",
    "    print(\"El color 4 es \" + kwargs[\"color4\"])\n",
    "    \n",
    "colores(color1 = \"Rojo\", color2 = \"Azul\", color3 = \"Verde\", color4 = \"Amarillo\")"
   ]
  },
  {
   "cell_type": "code",
   "execution_count": 5,
   "metadata": {},
   "outputs": [
    {
     "name": "stdout",
     "output_type": "stream",
     "text": [
      "La suma es: 20\n",
      "La resta es: 0\n",
      "La multip es: 100\n",
      "La division es: 1.0\n"
     ]
    }
   ],
   "source": [
    "def suma(x,y):\n",
    "    return x + y\n",
    "\n",
    "total = suma(10,10)\n",
    "print(f'La suma es: {total}')\n",
    "\n",
    "def resta(x,y):\n",
    "    return x - y\n",
    "\n",
    "total = resta(10,10)\n",
    "print(f'La resta es: {total}')\n",
    "\n",
    "def multiplicacion(x,y):\n",
    "    return x * y\n",
    "\n",
    "total = multiplicacion(10,10)\n",
    "print(f'La multip es: {total}')\n",
    "\n",
    "def division(x,y):\n",
    "    return x / y\n",
    "\n",
    "total = division(10,10)\n",
    "print(f'La division es: {total}')\n"
   ]
  },
  {
   "cell_type": "code",
   "execution_count": 6,
   "metadata": {},
   "outputs": [
    {
     "name": "stdout",
     "output_type": "stream",
     "text": [
      "El color es: rojo\n"
     ]
    }
   ],
   "source": [
    "def colores(color=\"rojo\"):\n",
    "    print(\"El color es: \" + color)\n",
    "    \n",
    "colores()"
   ]
  },
  {
   "cell_type": "markdown",
   "metadata": {},
   "source": [
    "## POO I\n",
    "### Clases y Objetos"
   ]
  },
  {
   "cell_type": "code",
   "execution_count": 7,
   "metadata": {},
   "outputs": [
    {
     "name": "stdout",
     "output_type": "stream",
     "text": [
      "Motores trabajando al 100%.\n",
      "Motores apagados.\n",
      "La compuerta está abierta.\n",
      "La compuerta está cerrada.\n",
      "El sistema de defensa está activado.\n",
      "¡Peligro! El sistema de defensa está desactivado.\n",
      "Protocolo de autodestrucción activado...\n"
     ]
    }
   ],
   "source": [
    "class Naves():\n",
    "    peso = 2500\n",
    "    largo = 50\n",
    "    ancho = 20\n",
    "    color1 = \"Negro\"\n",
    "    color2 = \"Plateado\"\n",
    "    motores = 4\n",
    "    activada = False\n",
    "    compuerta_principal = False\n",
    "    sistema_defensa = True\n",
    "    autodestruccion = False\n",
    "\n",
    "    def encender(self):\n",
    "        self.activada = True\n",
    "\n",
    "    def apagar(self):\n",
    "        self.activada = False\n",
    "\n",
    "    def abrir_compuerta(self):\n",
    "        self.compuerta_principal = True\n",
    "\n",
    "    def cerrar_compuerta(self):\n",
    "        self.compuerta_principal = False\n",
    "\n",
    "    def desactivar_defensas(self):\n",
    "        self.sistema_defensa = False\n",
    "\n",
    "    def activar_defensas(self):\n",
    "        self.sistema_defensa = True\n",
    "\n",
    "    def activar_autodestrucion(self):\n",
    "        self.autodestruccion = True\n",
    "        mensaje = \"Protocolo de autodestrucción activado...\"\n",
    "        print(mensaje)\n",
    "\n",
    "    def estado_motores(self):\n",
    "        if (self.activada):\n",
    "            return \"Motores trabajando al 100%.\"\n",
    "        else:\n",
    "            return \"Motores apagados.\"\n",
    "\n",
    "    def estado_compuerta(self):\n",
    "        if (self.compuerta_principal):\n",
    "            return \"La compuerta está abierta.\"\n",
    "        else:\n",
    "            return \"La compuerta está cerrada.\"\n",
    "\n",
    "    def estado_defensa(self):\n",
    "        if (self.sistema_defensa):            \n",
    "            return \"El sistema de defensa está activado.\"\n",
    "        else:\n",
    "            return \"¡Peligro! El sistema de defensa está desactivado.\"\n",
    "    \n",
    "#Se crea el objeto nave1 perteneciente a la clase Naves.\n",
    "    \n",
    "nave1=Naves()\n",
    "\n",
    "#Comandos (llamadas) al objeto.\n",
    "\n",
    "#Enciende nave.\n",
    "nave1.encender()\n",
    "\n",
    "#Comprueba estado de los motores.\n",
    "print(nave1.estado_motores())\n",
    "\n",
    "#Apaga nave.\n",
    "nave1.apagar()\n",
    "\n",
    "#Comprueba estado de los motores.\n",
    "\n",
    "print(nave1.estado_motores())\n",
    "\n",
    "#Abre la compuerta.\n",
    "nave1.abrir_compuerta()\n",
    "\n",
    "#Comprueba el estado de la compuerta.\n",
    "print(nave1.estado_compuerta())\n",
    "\n",
    "#Cierra compuerta.\n",
    "nave1.cerrar_compuerta()\n",
    "\n",
    "#Comprueba el estado de la compuerta.\n",
    "print(nave1.estado_compuerta())\n",
    "\n",
    "#Comprueba el estado de la defensas.\n",
    "print(nave1.estado_defensa())\n",
    "\n",
    "#Desactiva las defensas.\n",
    "nave1.desactivar_defensas()\n",
    "\n",
    "#Comprueba el estado de la defensas.\n",
    "print(nave1.estado_defensa())\n",
    "\n",
    "#Ejecuta la autodestrucción de la nave.\n",
    "nave1.activar_autodestrucion()"
   ]
  },
  {
   "cell_type": "markdown",
   "metadata": {},
   "source": [
    "## POO II\n",
    "### El metodo __init__"
   ]
  },
  {
   "cell_type": "code",
   "execution_count": 7,
   "metadata": {},
   "outputs": [
    {
     "name": "stdout",
     "output_type": "stream",
     "text": [
      "Saludos Luis. Iniciaste sesion correctamente.\n",
      "Saludos Julia. Iniciaste sesion correctamente.\n",
      "\n",
      "Luis, cerraste la secion\n",
      "Julia, cerraste la secion\n"
     ]
    }
   ],
   "source": [
    "class Usuarios():\n",
    "    \n",
    "    def __init__(self, nombre, pin):\n",
    "        self.nombre = nombre\n",
    "        self.pin = pin\n",
    "        \n",
    "    def saludo(self):\n",
    "        print(\"Saludos \" + self.nombre + \". Iniciaste sesion correctamente.\")\n",
    "        \n",
    "    def despedida(self):\n",
    "        print(self.nombre + \", cerraste la secion\")\n",
    "        \n",
    "usuario1 = Usuarios(\"Luis\", \"1234\")\n",
    "\n",
    "usuario2 = Usuarios(\"Julia\", \"3692\")\n",
    "\n",
    "usuario1.saludo()\n",
    "usuario2.saludo()\n",
    "\n",
    "print()\n",
    "\n",
    "usuario1.despedida()\n",
    "usuario2.despedida()"
   ]
  },
  {
   "cell_type": "markdown",
   "metadata": {},
   "source": [
    "## POO III\n",
    "### Cambiar valores de objetos y SELF"
   ]
  },
  {
   "cell_type": "code",
   "execution_count": 10,
   "metadata": {},
   "outputs": [
    {
     "name": "stdout",
     "output_type": "stream",
     "text": [
      "El nombre de usuarios es: Julian 56\n",
      "Cambio de edad\n",
      "El nombre de usuarios es: Julian 65\n"
     ]
    }
   ],
   "source": [
    "class Usuarios:\n",
    "    \n",
    "    def __init__(self, nombre, edad):\n",
    "        self.nombre = nombre\n",
    "        self.edad = edad\n",
    "        \n",
    "    def muestra_datos(self):\n",
    "        print(\"El nombre de usuarios es: \" + self.nombre, self.edad)\n",
    "        \n",
    "usuario1 = Usuarios(\"Julian\", 56)\n",
    "usuario1.muestra_datos()\n",
    "\n",
    "# Cambiar el valor de edad\n",
    "usuario1.edad = 65\n",
    "print(\"Cambio de edad\")\n",
    "usuario1.muestra_datos()"
   ]
  },
  {
   "cell_type": "markdown",
   "metadata": {},
   "source": [
    "## POO IV\n",
    "### Clases vacias con PASS y eliminar objetos"
   ]
  },
  {
   "cell_type": "code",
   "execution_count": 11,
   "metadata": {},
   "outputs": [],
   "source": [
    "# Clase vacia \n",
    "class nombreClase():\n",
    "    pass"
   ]
  },
  {
   "cell_type": "code",
   "execution_count": 5,
   "metadata": {},
   "outputs": [
    {
     "name": "stdout",
     "output_type": "stream",
     "text": [
      "Julian 56\n",
      "Julian\n"
     ]
    }
   ],
   "source": [
    "# Eliminar un objeto\n",
    "\n",
    "class Usuarios:\n",
    "    \n",
    "    def __init__(self, nombre, edad):\n",
    "        self.nombre = nombre\n",
    "        self.edad = edad\n",
    "        \n",
    "    def muestra_datos(self):\n",
    "        print(\"El nombre de usuario es: \" + self.nombre, self.edad)\n",
    "        \n",
    "usuario1 = Usuarios(\"Julian\", 56)\n",
    "\n",
    "print(usuario1.nombre, usuario1.edad)\n",
    "\n",
    "# Elimina el objeto usuario1.edad\n",
    "del usuario1.edad\n",
    "\n",
    "print(usuario1.edad)"
   ]
  },
  {
   "cell_type": "markdown",
   "metadata": {},
   "source": [
    "## POO V\n",
    "### Herencia de clases"
   ]
  },
  {
   "cell_type": "code",
   "execution_count": 6,
   "metadata": {},
   "outputs": [
    {
     "name": "stdout",
     "output_type": "stream",
     "text": [
      "El nombre de usuario es: Enrique y tiene 28\n",
      "El nombre de usuario es: Elvira y tiene 23\n"
     ]
    }
   ],
   "source": [
    "class Usuarios:\n",
    "    \n",
    "    def __init__(self, nombre, edad):\n",
    "        self.nombre = nombre\n",
    "        self.edad = edad\n",
    "        \n",
    "    def muestra_datos(self):\n",
    "        print(\"El nombre de usuario es: \" + self.nombre, \"y tiene\", self.edad)\n",
    "        \n",
    "usuario1 = Usuarios(\"Enrique\", 28)\n",
    "\n",
    "usuario1.muestra_datos()\n",
    "\n",
    "# Herecia de la Clase Usuarios\n",
    "class Usuarios_premium(Usuarios):\n",
    "    pass\n",
    "\n",
    "usuario2 = Usuarios_premium(\"Elvira\", 23)\n",
    "\n",
    "usuario2.muestra_datos()"
   ]
  },
  {
   "cell_type": "markdown",
   "metadata": {},
   "source": [
    "## POO VI\n",
    "### Heredar propiedades __ init __ "
   ]
  },
  {
   "cell_type": "code",
   "execution_count": 1,
   "metadata": {},
   "outputs": [
    {
     "name": "stdout",
     "output_type": "stream",
     "text": [
      "El nombre de usuario es: Enrique y tiene 28\n",
      "El nombre de usuario es: Elvira y tiene 23 años. Su Instagram es: elvira_1999\n"
     ]
    }
   ],
   "source": [
    "class Usuarios:\n",
    "    \n",
    "    def __init__(self, nombre, edad):\n",
    "        self.nombre = nombre\n",
    "        self.edad = edad\n",
    "        \n",
    "    def muestra_datos(self):\n",
    "        print(\"El nombre de usuario es: \" + self.nombre, \"y tiene\", self.edad)\n",
    "        \n",
    "usuario1 = Usuarios(\"Enrique\", 28)\n",
    "\n",
    "usuario1.muestra_datos()\n",
    "\n",
    "class Usuarios_premium(Usuarios):\n",
    "    \n",
    "    def __init__(self, nombre, edad, instagram):\n",
    "        self.nombre = nombre\n",
    "        self.edad = edad \n",
    "        self.instagram = instagram\n",
    "        \n",
    "    def muestra_datos_premium(self):\n",
    "        print(\"El nombre de usuario es: \" + self.nombre, \"y tiene\", self.edad, \"años. Su Instagram es:\", self.instagram)\n",
    "        \n",
    "usuario2 = Usuarios_premium(\"Elvira\", 23, \"elvira_1999\")\n",
    "\n",
    "usuario2.muestra_datos_premium()"
   ]
  },
  {
   "cell_type": "markdown",
   "metadata": {},
   "source": [
    "## Variables GLOBALES, LOCALES y FUNCIONES ANIDADAS"
   ]
  },
  {
   "cell_type": "code",
   "execution_count": 8,
   "metadata": {},
   "outputs": [
    {
     "name": "stdout",
     "output_type": "stream",
     "text": [
      "Variable dentro de la funcion\n",
      "Variable dentro de la funcion2\n"
     ]
    }
   ],
   "source": [
    "# Variablee dentro de una funcion\n",
    "\n",
    "def funcion():\n",
    "    variable1 = \"Variable dentro de la funcion\"\n",
    "    print(variable1)\n",
    "    \n",
    "    def funcion2():\n",
    "        variable2 = \"Variable dentro de la funcion2\"\n",
    "        print(variable2)\n",
    "\n",
    "    funcion2()\n",
    "    \n",
    "funcion()"
   ]
  },
  {
   "cell_type": "code",
   "execution_count": 16,
   "metadata": {},
   "outputs": [
    {
     "name": "stdout",
     "output_type": "stream",
     "text": [
      "Variable dentro de la funcion\n",
      "Variable fuera de la funcion\n"
     ]
    }
   ],
   "source": [
    "# Variables fuera de una funcion\n",
    "\n",
    "variable1 = \"Variable fuera de la funcion\"\n",
    "\n",
    "def funcion1():\n",
    "    # Variables dentro de una funcion\n",
    "    variable1 = \"Variable dentro de la funcion\"\n",
    "    print(variable1)\n",
    "    \n",
    "funcion1()\n",
    "\n",
    "print(variable1)"
   ]
  },
  {
   "cell_type": "code",
   "execution_count": 21,
   "metadata": {},
   "outputs": [
    {
     "name": "stdout",
     "output_type": "stream",
     "text": [
      "10\n",
      "10\n"
     ]
    }
   ],
   "source": [
    "# Variables globales \n",
    "\n",
    "def funcion():\n",
    "    # Variables global dentro de una funcion\n",
    "    global num1 \n",
    "    num1 = 10\n",
    "    print(num1)\n",
    "\n",
    "funcion()\n",
    "\n",
    "print(num1)"
   ]
  },
  {
   "cell_type": "code",
   "execution_count": 22,
   "metadata": {},
   "outputs": [
    {
     "name": "stdout",
     "output_type": "stream",
     "text": [
      "10\n"
     ]
    }
   ],
   "source": [
    "num1 = 50\n",
    "\n",
    "def funcion():\n",
    "    global num1\n",
    "    num1 = 10\n",
    "    \n",
    "funcion()\n",
    "\n",
    "# Imprimer 10 porque el 50 se sobreescribe con el 10\n",
    "print(num1)"
   ]
  },
  {
   "cell_type": "markdown",
   "metadata": {},
   "source": [
    "## LAMBDA\n",
    "### IMPORTAR modulos y funciones lambda\"\"\""
   ]
  },
  {
   "cell_type": "code",
   "execution_count": 3,
   "metadata": {},
   "outputs": [
    {
     "name": "stdout",
     "output_type": "stream",
     "text": [
      "12.57\n"
     ]
    }
   ],
   "source": [
    "import math\n",
    "\n",
    "def area(radio):\n",
    "    resultado = round(math.pi * radio * radio, 2)\n",
    "    print(resultado)\n",
    "    \n",
    "area(2)"
   ]
  },
  {
   "cell_type": "code",
   "execution_count": 4,
   "metadata": {},
   "outputs": [
    {
     "name": "stdout",
     "output_type": "stream",
     "text": [
      "12.57\n"
     ]
    }
   ],
   "source": [
    "# Usando lambda\n",
    "\n",
    "area = lambda radio: round(math.pi * radio * radio, 2)\n",
    "\n",
    "print(area(2))"
   ]
  },
  {
   "cell_type": "markdown",
   "metadata": {},
   "source": [
    "## Trabajando con fechas con el modulo DATETIME"
   ]
  },
  {
   "cell_type": "code",
   "execution_count": 8,
   "metadata": {},
   "outputs": [
    {
     "name": "stdout",
     "output_type": "stream",
     "text": [
      "Year: 2024\n",
      "Month: 9\n",
      "Day: 28\n"
     ]
    }
   ],
   "source": [
    "import datetime\n",
    "\n",
    "fecha = datetime.datetime.now()\n",
    "\n",
    "print(\"Year:\", fecha.year)\n",
    "print(\"Month:\", fecha.month)\n",
    "print(\"Day:\", fecha.day)"
   ]
  },
  {
   "cell_type": "markdown",
   "metadata": {},
   "source": [
    "## Trabajar con fechas con el método STRFTIME()"
   ]
  },
  {
   "cell_type": "code",
   "execution_count": null,
   "metadata": {},
   "outputs": [],
   "source": [
    "'''\n",
    "\n",
    "%d - Día del mes - (01-31)\n",
    "%a - Día de la semana (corto) - (Sun, Mon, Tue, Wed, Thu, Fri, Sat)\n",
    "%A - Día de la semana (entero) - (Sunday, Monday, Tuesday, Wednesday, Thursday, Friday, Saturday)\n",
    "%w - Dia de la semana (número) - (0-6) (0 es Domingo)\n",
    "%b - Mes (corto) - (Jan, Feb, Mar, Apr, May, Jun, Jul, Aug, Sep, Oct, Nov, Dec)\n",
    "%B - Mes (entero) - (January, February, March, April, May, June, July, August, September, October, November, December)\n",
    "%m - Mes (número) - (01-12)\n",
    "%y - Año (corto) - (00-99)\n",
    "%Y - Año (entero) - (2022)\n",
    "%H - Hora (00-23) - (hora militar)\n",
    "%I - Hora (00-12) - (hora estándar)\n",
    "%p - AM/PM\n",
    "%M - Minuto - (00-59)\n",
    "%S - Segundo - (00-59)\n",
    "%f - Microsegundo - (000000-999999) - (6 decimales)\n",
    "%j - Día del año - (001-366) - (366 en años bisiestos)\n",
    "%U - Semana del año (número) - (00-53) - (Domingo como primer día de la semana) - (00 es el primer Domingo del año)\n",
    "%W - Semana del año (número) - (00-53) - (Lunes como primer día de la semana) - (00 es el primer Lunes del año)\n",
    "%Z - Zona horaria - (UTC-05:00) - (Eastern Standard Time) - (EST) - (UTC+01:00) - (Central European Time) - (CET) - (UTC+00:00) - (Coordinated Universal Time) - (UTC)\n",
    "%c - Fecha y hora local (entera) - 18/03/2020 16:19:05\n",
    "%x - Fecha local (corta) - 18/03/2020\n",
    "%X - Hora local (corta) - 16:19:05\n",
    "'''"
   ]
  },
  {
   "cell_type": "code",
   "execution_count": 36,
   "metadata": {},
   "outputs": [
    {
     "name": "stdout",
     "output_type": "stream",
     "text": [
      "sábado\n"
     ]
    }
   ],
   "source": [
    "import datetime, locale\n",
    "\n",
    "locale.setlocale(locale.LC_ALL, 'es-ES')\n",
    "fecha = datetime.datetime.now()\n",
    "\n",
    "print(fecha.strftime(\"%A\"))"
   ]
  }
 ],
 "metadata": {
  "kernelspec": {
   "display_name": "Python 3",
   "language": "python",
   "name": "python3"
  },
  "language_info": {
   "codemirror_mode": {
    "name": "ipython",
    "version": 3
   },
   "file_extension": ".py",
   "mimetype": "text/x-python",
   "name": "python",
   "nbconvert_exporter": "python",
   "pygments_lexer": "ipython3",
   "version": "3.12.2"
  }
 },
 "nbformat": 4,
 "nbformat_minor": 2
}
